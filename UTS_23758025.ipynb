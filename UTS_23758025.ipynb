{
 "cells": [
  {
   "cell_type": "code",
   "execution_count": null,
   "metadata": {
    "colab": {
     "base_uri": "https://localhost:8080/"
    },
    "executionInfo": {
     "elapsed": 654,
     "status": "ok",
     "timestamp": 1746407941696,
     "user": {
      "displayName": "Rizky Naufal",
      "userId": "06357155050855586717"
     },
     "user_tz": -420
    },
    "id": "NDECySh4AUcV",
    "outputId": "efeb3e5e-112a-434f-c0ff-3e657e4ef2e9"
   },
   "outputs": [
    {
     "name": "stdout",
     "output_type": "stream",
     "text": [
      "Cloning into 'ujian-tengah-semester-RizkynaufalF'...\n",
      "remote: Enumerating objects: 3, done.\u001b[K\n",
      "remote: Counting objects: 100% (3/3), done.\u001b[K\n",
      "remote: Compressing objects: 100% (2/2), done.\u001b[K\n",
      "remote: Total 3 (delta 0), reused 0 (delta 0), pack-reused 0 (from 0)\u001b[K\n",
      "Receiving objects: 100% (3/3), done.\n"
     ]
    }
   ],
   "source": [
    "from google.colab import auth\n",
    "auth.authenticate_user()\n",
    "\n",
    "!git config --global user.email \"rizkynaufal552@gmail.com\"\n",
    "!git config --global user.name \"Rizky Naufal\"\n",
    "\n",
    "!git clone https://@github.com/IET-Polinela/ujian-tengah-semester-RizkynaufalF"
   ]
  },
  {
   "cell_type": "code",
   "execution_count": 6,
   "metadata": {
    "colab": {
     "base_uri": "https://localhost:8080/"
    },
    "executionInfo": {
     "elapsed": 4,
     "status": "ok",
     "timestamp": 1746407943907,
     "user": {
      "displayName": "Rizky Naufal",
      "userId": "06357155050855586717"
     },
     "user_tz": -420
    },
    "id": "VrJbL57qA-Gd",
    "outputId": "8b9c0c89-4fd2-4904-ac37-e00a3b5cc706"
   },
   "outputs": [
    {
     "name": "stdout",
     "output_type": "stream",
     "text": [
      "/content/ujian-tengah-semester-RizkynaufalF\n"
     ]
    }
   ],
   "source": [
    "%cd /content/ujian-tengah-semester-RizkynaufalF"
   ]
  },
  {
   "cell_type": "code",
   "execution_count": 30,
   "metadata": {
    "colab": {
     "base_uri": "https://localhost:8080/"
    },
    "executionInfo": {
     "elapsed": 50,
     "status": "ok",
     "timestamp": 1746409072128,
     "user": {
      "displayName": "Rizky Naufal",
      "userId": "06357155050855586717"
     },
     "user_tz": -420
    },
    "id": "eG12VePgBFdI",
    "outputId": "98ffe453-d27e-4cbd-a3e5-cfefcd402e90"
   },
   "outputs": [
    {
     "name": "stdout",
     "output_type": "stream",
     "text": [
      "Overwriting Preprocessing.py\n"
     ]
    }
   ],
   "source": [
    "%%writefile Preprocessing.py\n",
    "import pandas as pd\n",
    "from sklearn.model_selection import train_test_split\n",
    "from sklearn.preprocessing import LabelEncoder\n",
    "\n",
    "# Load data\n",
    "df = pd.read_csv('healthcare-dataset-stroke-data.csv')\n",
    "df = df.drop(['id'], axis=1)\n",
    "\n",
    "# Perbaikan warning: isi nilai null di 'bmi' tanpa inplace\n",
    "df['bmi'] = df['bmi'].fillna(df['bmi'].mean())\n",
    "\n",
    "# Encode fitur kategorikal\n",
    "le = LabelEncoder()\n",
    "for col in ['gender', 'ever_married', 'work_type', 'Residence_type', 'smoking_status']:\n",
    "    df[col] = le.fit_transform(df[col])\n",
    "\n",
    "# Split fitur dan target\n",
    "X = df.drop('stroke', axis=1)\n",
    "y = df['stroke']\n",
    "X_train, X_test, y_train, y_test = train_test_split(X, y, test_size=0.2, random_state=42)\n",
    "\n",
    "# Print info hasil preprocessing\n",
    "print(\"Preprocessing selesai.\")\n",
    "print(\"Jumlah data latih:\", X_train.shape[0])\n",
    "print(\"Jumlah data uji:\", X_test.shape[0])\n",
    "print(\"Contoh data fitur:\\n\", X_train.head())\n",
    "\n",
    "# Simpan hasil preprocessing ke dalam CSV\n",
    "X_train.to_csv('X_train.csv', index=False)\n",
    "X_test.to_csv('X_test.csv', index=False)\n",
    "y_train.to_csv('y_train.csv', index=False, header=True)\n",
    "y_test.to_csv('y_test.csv', index=False, header=True)"
   ]
  },
  {
   "cell_type": "code",
   "execution_count": 31,
   "metadata": {
    "colab": {
     "base_uri": "https://localhost:8080/"
    },
    "executionInfo": {
     "elapsed": 1522,
     "status": "ok",
     "timestamp": 1746409076866,
     "user": {
      "displayName": "Rizky Naufal",
      "userId": "06357155050855586717"
     },
     "user_tz": -420
    },
    "id": "shnK-PAABfF5",
    "outputId": "48f385ba-672b-4fc3-9541-fbca8ebad290"
   },
   "outputs": [
    {
     "name": "stdout",
     "output_type": "stream",
     "text": [
      "Preprocessing selesai.\n",
      "Jumlah data latih: 4088\n",
      "Jumlah data uji: 1022\n",
      "Contoh data fitur:\n",
      "       gender   age  hypertension  ...  avg_glucose_level   bmi  smoking_status\n",
      "802        1  79.0             0  ...             112.64  28.5               1\n",
      "3927       0  62.0             0  ...              88.32  36.3               0\n",
      "2337       0  21.0             0  ...              59.52  33.7               2\n",
      "3910       1  31.0             0  ...              65.70  30.4               1\n",
      "1886       0  31.0             0  ...              59.63  19.9               2\n",
      "\n",
      "[5 rows x 10 columns]\n"
     ]
    }
   ],
   "source": [
    "!python Preprocessing.py"
   ]
  },
  {
   "cell_type": "code",
   "execution_count": 47,
   "metadata": {
    "colab": {
     "base_uri": "https://localhost:8080/"
    },
    "executionInfo": {
     "elapsed": 3,
     "status": "ok",
     "timestamp": 1746410980665,
     "user": {
      "displayName": "Rizky Naufal",
      "userId": "06357155050855586717"
     },
     "user_tz": -420
    },
    "id": "IyUHE1DIIAvu",
    "outputId": "d1547f7d-e095-4802-bee5-85e15cd28d21"
   },
   "outputs": [
    {
     "name": "stdout",
     "output_type": "stream",
     "text": [
      "Overwriting XGBoost.py\n"
     ]
    }
   ],
   "source": [
    "%%writefile XGBoost.py\n",
    "import pandas as pd\n",
    "import matplotlib.pyplot as plt\n",
    "from sklearn.metrics import classification_report, ConfusionMatrixDisplay\n",
    "from xgboost import XGBClassifier\n",
    "\n",
    "# Load hasil preprocessing\n",
    "X_train = pd.read_csv('X_train.csv')\n",
    "X_test  = pd.read_csv('X_test.csv')\n",
    "y_train = pd.read_csv('y_train.csv').values.ravel()  # Ensure y_train is 1D\n",
    "y_test  = pd.read_csv('y_test.csv').values.ravel()    # Ensure y_test is 1D\n",
    "\n",
    "# ---------- 1. XGBoost Classifier ----------\n",
    "# Calculate the scale_pos_weight for handling class imbalance\n",
    "scale_pos_weight = len(y_train) / sum(y_train == 1)\n",
    "\n",
    "# Inisialisasi dan training\n",
    "xgb = XGBClassifier(use_label_encoder=False, eval_metric='logloss', random_state=42, scale_pos_weight=scale_pos_weight)\n",
    "xgb.fit(X_train, y_train)\n",
    "y_pred_xgb = xgb.predict(X_test)\n",
    "\n",
    "# Evaluasi XGBoost\n",
    "print(\"=== XGBoost Classification Report ===\")\n",
    "print(classification_report(y_test, y_pred_xgb))\n",
    "\n",
    "# Confusion Matrix XGBoost\n",
    "disp_xgb = ConfusionMatrixDisplay.from_predictions(\n",
    "    y_test, y_pred_xgb, cmap='Blues', normalize=None\n",
    ")\n",
    "disp_xgb.ax_.set_title('Confusion Matrix - XGBoost')\n",
    "plt.savefig('confusion_matrix_xgb.png')\n",
    "plt.close()\n",
    "\n",
    "# Feature Importance XGBoost\n",
    "i_importances = xgb.feature_importances_\n",
    "feat_names = X_train.columns  # Assuming X_train is a DataFrame with columns\n",
    "imp_xgb = pd.Series(i_importances, index=feat_names).sort_values()\n",
    "plt.figure(figsize=(8,6))\n",
    "imp_xgb.plot(kind='barh')\n",
    "plt.title('Feature Importance - XGBoost')\n",
    "plt.xlabel('Importance Score')\n",
    "plt.tight_layout()\n",
    "plt.savefig('feature_importance_xgb.png')\n",
    "plt.close()\n"
   ]
  },
  {
   "cell_type": "code",
   "execution_count": 48,
   "metadata": {
    "colab": {
     "base_uri": "https://localhost:8080/"
    },
    "executionInfo": {
     "elapsed": 2816,
     "status": "ok",
     "timestamp": 1746410985823,
     "user": {
      "displayName": "Rizky Naufal",
      "userId": "06357155050855586717"
     },
     "user_tz": -420
    },
    "id": "Lo2sWPoGKzPx",
    "outputId": "a314d3c0-9b88-4297-bcf0-d175ee9dff79"
   },
   "outputs": [
    {
     "name": "stdout",
     "output_type": "stream",
     "text": [
      "/usr/local/lib/python3.11/dist-packages/xgboost/core.py:158: UserWarning: [02:09:49] WARNING: /workspace/src/learner.cc:740: \n",
      "Parameters: { \"use_label_encoder\" } are not used.\n",
      "\n",
      "  warnings.warn(smsg, UserWarning)\n",
      "=== XGBoost Classification Report ===\n",
      "              precision    recall  f1-score   support\n",
      "\n",
      "           0       0.95      0.97      0.96       960\n",
      "           1       0.28      0.21      0.24        62\n",
      "\n",
      "    accuracy                           0.92      1022\n",
      "   macro avg       0.62      0.59      0.60      1022\n",
      "weighted avg       0.91      0.92      0.91      1022\n",
      "\n"
     ]
    }
   ],
   "source": [
    "!python XGBoost.py"
   ]
  },
  {
   "cell_type": "code",
   "execution_count": 49,
   "metadata": {
    "colab": {
     "base_uri": "https://localhost:8080/"
    },
    "executionInfo": {
     "elapsed": 1326,
     "status": "ok",
     "timestamp": 1746411270312,
     "user": {
      "displayName": "Rizky Naufal",
      "userId": "06357155050855586717"
     },
     "user_tz": -420
    },
    "id": "QaGe9aTGOLLL",
    "outputId": "be1ba961-793b-474b-fa98-28d65c14104b"
   },
   "outputs": [
    {
     "name": "stdout",
     "output_type": "stream",
     "text": [
      "warning: adding embedded git repository: ujian-tengah-semester-RizkynaufalF\n",
      "\u001b[33mhint: You've added another git repository inside your current repository.\u001b[m\n",
      "\u001b[33mhint: Clones of the outer repository will not contain the contents of\u001b[m\n",
      "\u001b[33mhint: the embedded repository and will not know how to obtain it.\u001b[m\n",
      "\u001b[33mhint: If you meant to add a submodule, use:\u001b[m\n",
      "\u001b[33mhint: \u001b[m\n",
      "\u001b[33mhint: \tgit submodule add <url> ujian-tengah-semester-RizkynaufalF\u001b[m\n",
      "\u001b[33mhint: \u001b[m\n",
      "\u001b[33mhint: If you added this path by mistake, you can remove it from the\u001b[m\n",
      "\u001b[33mhint: index with:\u001b[m\n",
      "\u001b[33mhint: \u001b[m\n",
      "\u001b[33mhint: \tgit rm --cached ujian-tengah-semester-RizkynaufalF\u001b[m\n",
      "\u001b[33mhint: \u001b[m\n",
      "\u001b[33mhint: See \"git help submodule\" for more information.\u001b[m\n",
      "[main f77a342] UTS\n",
      " 10 files changed, 15411 insertions(+)\n",
      " create mode 100644 Preprocessing.py\n",
      " create mode 100644 XGBoost.py\n",
      " create mode 100644 X_test.csv\n",
      " create mode 100644 X_train.csv\n",
      " create mode 100644 confusion_matrix_xgb.png\n",
      " create mode 100644 feature_importance_xgb.png\n",
      " create mode 100644 healthcare-dataset-stroke-data.csv\n",
      " create mode 160000 ujian-tengah-semester-RizkynaufalF\n",
      " create mode 100644 y_test.csv\n",
      " create mode 100644 y_train.csv\n",
      "Enumerating objects: 12, done.\n",
      "Counting objects: 100% (12/12), done.\n",
      "Delta compression using up to 2 threads\n",
      "Compressing objects: 100% (11/11), done.\n",
      "Writing objects: 100% (11/11), 148.17 KiB | 2.69 MiB/s, done.\n",
      "Total 11 (delta 0), reused 0 (delta 0), pack-reused 0\n",
      "To https://github.com/IET-Polinela/ujian-tengah-semester-RizkynaufalF\n",
      "   8496bcd..f77a342  main -> main\n"
     ]
    }
   ],
   "source": [
    "!git add .\n",
    "!git commit -m \"UTS\"\n",
    "!git push origin main"
   ]
  },
  {
   "cell_type": "code",
   "execution_count": 50,
   "metadata": {
    "colab": {
     "base_uri": "https://localhost:8080/"
    },
    "executionInfo": {
     "elapsed": 23503,
     "status": "ok",
     "timestamp": 1746411319788,
     "user": {
      "displayName": "Rizky Naufal",
      "userId": "06357155050855586717"
     },
     "user_tz": -420
    },
    "id": "CloGSJKOOW9z",
    "outputId": "c6e5aead-9b84-4b9d-cf83-945d956c40cc"
   },
   "outputs": [
    {
     "name": "stdout",
     "output_type": "stream",
     "text": [
      "Mounted at /content/drive\n"
     ]
    }
   ],
   "source": [
    "from google.colab import drive\n",
    "drive.mount('/content/drive')"
   ]
  },
  {
   "cell_type": "code",
   "execution_count": 53,
   "metadata": {
    "executionInfo": {
     "elapsed": 517,
     "status": "ok",
     "timestamp": 1746411589695,
     "user": {
      "displayName": "Rizky Naufal",
      "userId": "06357155050855586717"
     },
     "user_tz": -420
    },
    "id": "TIOb3CvHOhMu"
   },
   "outputs": [],
   "source": [
    "!cp \"/content/drive/My Drive/Colab Notebooks/UTS_23758025.ipynb\" \"ujian-tengah-semester-RizkynaufalF\""
   ]
  },
  {
   "cell_type": "code",
   "execution_count": 55,
   "metadata": {
    "colab": {
     "base_uri": "https://localhost:8080/"
    },
    "executionInfo": {
     "elapsed": 924,
     "status": "ok",
     "timestamp": 1746411649806,
     "user": {
      "displayName": "Rizky Naufal",
      "userId": "06357155050855586717"
     },
     "user_tz": -420
    },
    "id": "Twp0GYVvOr5y",
    "outputId": "0da7ea63-55b8-4206-ec91-24b096aec6a0"
   },
   "outputs": [
    {
     "name": "stdout",
     "output_type": "stream",
     "text": [
      "[main 34b2e5c] upload Final\n",
      " 1 file changed, 1 insertion(+)\n",
      " create mode 100644 UTS_23758025.ipynb\n",
      "Enumerating objects: 4, done.\n",
      "Counting objects: 100% (4/4), done.\n",
      "Delta compression using up to 2 threads\n",
      "Compressing objects: 100% (3/3), done.\n",
      "Writing objects: 100% (3/3), 3.69 KiB | 3.69 MiB/s, done.\n",
      "Total 3 (delta 1), reused 0 (delta 0), pack-reused 0\n",
      "remote: Resolving deltas: 100% (1/1), completed with 1 local object.\u001b[K\n",
      "remote: \u001b[1;31merror\u001b[m: GH013: Repository rule violations found for refs/heads/main.\u001b[K\n",
      "remote: \n",
      "remote: - GITHUB PUSH PROTECTION\u001b[K\n",
      "remote:   —————————————————————————————————————————\u001b[K\n",
      "remote:     Resolve the following violations before pushing again\u001b[K\n",
      "remote: \n",
      "remote:     - Push cannot contain secrets\u001b[K\n",
      "remote: \n",
      "remote:     \u001b[K\n",
      "remote:      (?) Learn how to resolve a blocked push\u001b[K\n",
      "remote:      https://docs.github.com/code-security/secret-scanning/working-with-secret-scanning-and-push-protection/working-with-push-protection-from-the-command-line#resolving-a-blocked-push\u001b[K\n",
      "remote:     \u001b[K\n",
      "remote:     \u001b[K\n",
      "remote:       —— GitHub Personal Access Token ——————————————————————\u001b[K\n",
      "remote:        locations:\u001b[K\n",
      "remote:          - commit: 34b2e5c1607770803dfbee55474ae972be165436\u001b[K\n",
      "remote:            path: UTS_23758025.ipynb:1\u001b[K\n",
      "remote:     \u001b[K\n",
      "remote:        (?) To push, remove secret from commit(s) or follow this URL to allow the secret.\u001b[K\n",
      "remote:        https://github.com/IET-Polinela/ujian-tengah-semester-RizkynaufalF/security/secret-scanning/unblock-secret/2weoyQjGayVxcCwIecqk3WahvlA\u001b[K\n",
      "remote:     \u001b[K\n",
      "remote: \n",
      "remote: \n",
      "To https://github.com/IET-Polinela/ujian-tengah-semester-RizkynaufalF\n",
      " \u001b[31m! [remote rejected]\u001b[m main -> main (push declined due to repository rule violations)\n",
      "\u001b[31merror: failed to push some refs to 'https://github.com/IET-Polinela/ujian-tengah-semester-RizkynaufalF'\n",
      "\u001b[m"
     ]
    }
   ],
   "source": [
    "!git add .\n",
    "!git commit -m \"upload Final\"\n",
    "!git push origin main"
   ]
  }
 ],
 "metadata": {
  "colab": {
   "authorship_tag": "ABX9TyO12Gq4YBeIjjuO68MkR8sj",
   "provenance": []
  },
  "kernelspec": {
   "display_name": "Python 3",
   "name": "python3"
  },
  "language_info": {
   "name": "python"
  }
 },
 "nbformat": 4,
 "nbformat_minor": 0
}
